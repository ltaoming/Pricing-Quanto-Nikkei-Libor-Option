{
 "cells": [
  {
   "cell_type": "code",
   "execution_count": 237,
   "id": "15640542-ade7-400c-ab01-832920a8e5fd",
   "metadata": {},
   "outputs": [],
   "source": [
    "import QuantLib as ql\n",
    "import matplotlib.pyplot as plt\n",
    "import numpy as np\n",
    "import pandas as pd"
   ]
  },
  {
   "cell_type": "code",
   "execution_count": 324,
   "id": "0c0cd990-d96a-4c74-a39d-30349ce2dee8",
   "metadata": {},
   "outputs": [],
   "source": [
    "def p(k_i):  \n",
    "    \n",
    "    def gen_paths(L, T, sigma_l, steps, N):  # Simulation for Libor\n",
    "        dt = T / steps\n",
    "        LT = np.log(L) + np.cumsum((( - sigma_l ** 2 / 2) * (T) + \\\n",
    "                                      sigma_l * np.sqrt(T) * \\\n",
    "                                      np.random.normal(size=(steps, N))), axis=0)\n",
    "\n",
    "        return np.exp(LT)\n",
    "\n",
    "    def gen_paths2(S, T, r, q, sigma_s, sigma_x, sigma_p, rho1, rho2, steps, N):  # Simulation for quanto\n",
    "        dt = T / steps\n",
    "        ST = np.log(S) + np.cumsum(((r - q - sigma_s * sigma_x * rho1 + rho2 * sigma_p * sigma_s - sigma_s ** 2 / 2) * dt + \\\n",
    "                                      sigma_s * np.sqrt(T) * \\\n",
    "                                      np.random.normal(size=(steps, N))), axis=0)\n",
    "\n",
    "        return np.exp(ST)\n",
    "\n",
    "    L = 1.36  #Libor L_{0}\n",
    "    S = 27003.560547  # stock price S_{0}\n",
    "    T = 3  # time to maturity (in year)\n",
    "    r = 0.02   # risk free risk in annual %\n",
    "    q = 0.0152  # annual dividend rate\n",
    "    sigma_S = 0.011966278630595297  # annual volatility (stock)\n",
    "    sigma_X = 0.004055125840025642  # annual volatility (exchange rate)\n",
    "    sigma_P = 0.15539427910616832   # annual volatility (T-bond) need more data\n",
    "    sigma_L = 0.02706690514545634   # annual volatility (Libor)\n",
    "    cor =  0.036397916482133884  # correlation between stock price and exchange rate\n",
    "    cor2 = 0.1585817213425081   # correlation between stock price and Libor\n",
    "    steps = 252 * T  # time steps (daily)\n",
    "    N = 1000  # number of trials\n",
    "    Delta = 0.75  # 3 months\n",
    "\n",
    "    paths = gen_paths2(S, T, r, q, sigma_S, sigma_X, sigma_P, cor, cor2, steps, N)\n",
    "    paths2 = gen_paths(L, T-Delta, sigma_L, steps, N)\n",
    "\n",
    "    S_T = paths[-1]   # pricing quanto equity\n",
    "    L_T = paths2[-1]   # pricing Libor equity\n",
    "\n",
    "    k=1\n",
    "    Pi = (k_i - L_T / L) * (S_T / S - k)\n",
    "    for i in range(1000):\n",
    "        if Pi[i] < 0:\n",
    "            Pi[i] = 0   # Take max(0, Pi)\n",
    "\n",
    "    mean = np.mean(Pi)\n",
    "    return mean"
   ]
  },
  {
   "cell_type": "code",
   "execution_count": null,
   "id": "2b608e2c-0594-4901-9e07-80aa47cc1568",
   "metadata": {},
   "outputs": [],
   "source": []
  },
  {
   "cell_type": "code",
   "execution_count": 325,
   "id": "fbfff966-e868-4450-8ae8-e591ca0b74df",
   "metadata": {},
   "outputs": [],
   "source": [
    "P_s = []\n",
    "for i in range(200):\n",
    "    P_s.append(p(1))"
   ]
  },
  {
   "cell_type": "code",
   "execution_count": 326,
   "id": "4bce2519-e268-42f5-ab38-3e46ed306a1d",
   "metadata": {},
   "outputs": [
    {
     "name": "stdout",
     "output_type": "stream",
     "text": [
      "Mean of the simulated contract price 0.22012094325448445\n"
     ]
    }
   ],
   "source": [
    "print(\"Mean of the simulated contract price\", np.mean(P_s))"
   ]
  },
  {
   "cell_type": "code",
   "execution_count": 327,
   "id": "7afac1d6-4760-4167-b371-a32d250f7a85",
   "metadata": {},
   "outputs": [
    {
     "name": "stdout",
     "output_type": "stream",
     "text": [
      "90% of the simulated contract price interval [0.19750744 0.24327666]\n"
     ]
    }
   ],
   "source": [
    "print(\"90% of the simulated contract price interval\", np.percentile(P_s, [5, 95]))"
   ]
  },
  {
   "cell_type": "code",
   "execution_count": 328,
   "id": "9691d041-c281-42b1-8ba5-c05978508cf5",
   "metadata": {},
   "outputs": [
    {
     "data": {
      "image/png": "[encoded data removed]",
      "text/plain": [
       "<Figure size 432x288 with 1 Axes>"
      ]
     },
     "metadata": {
      "needs_background": "light"
     },
     "output_type": "display_data"
    }
   ],
   "source": [
    "plt.hist(P_s, density=True, bins=10)  # density=False would make counts\n",
    "plt.title(\"200 Times Pricing Histogram\")\n",
    "plt.ylabel('Probability')\n",
    "plt.xlabel('Contract price');\n",
    "plt.savefig(\"Log_normal_histogram.pdf\")"
   ]
  },
  {
   "cell_type": "code",
   "execution_count": 320,
   "id": "9d880bca-ae6e-4a98-9de9-5a9be91500c0",
   "metadata": {},
   "outputs": [],
   "source": [
    "k_s = []\n",
    "for j in range(11):\n",
    "    k_s.append(0.5+j*0.1)"
   ]
  },
  {
   "cell_type": "code",
   "execution_count": 321,
   "id": "fb44c6a5-2904-4a30-912a-d1027c2e67d6",
   "metadata": {},
   "outputs": [],
   "source": [
    "P_sk=[]\n",
    "for i in k_s:\n",
    "    for j in range(100):\n",
    "        P_sk.append(p(i))"
   ]
  },
  {
   "cell_type": "code",
   "execution_count": 322,
   "id": "88a0db4f-2bc1-4d2c-af51-80a9ba4184ec",
   "metadata": {},
   "outputs": [],
   "source": [
    "P_mean = []\n",
    "for i in range(11):\n",
    "    P_mean.append(np.mean(P_sk[0+i*100:9+i*100]))"
   ]
  },
  {
   "cell_type": "code",
   "execution_count": 323,
   "id": "4ed3ed58-391b-47da-a633-e16191d208a6",
   "metadata": {},
   "outputs": [
    {
     "data": {
      "image/png": "[encoded data removed]",
      "text/plain": [
       "<Figure size 432x288 with 1 Axes>"
      ]
     },
     "metadata": {
      "needs_background": "light"
     },
     "output_type": "display_data"
    }
   ],
   "source": [
    "plt.plot(k_s, P_mean)\n",
    "plt.title(\"Contract Price Versus k\")\n",
    "plt.ylabel('Contract price')\n",
    "plt.xlabel('k');\n",
    "plt.savefig(\"Contract_price_versus_k.pdf\")"
   ]
  },
  {
   "cell_type": "code",
   "execution_count": null,
   "id": "f9882f02-ecb8-4122-be73-7ece66b73ee3",
   "metadata": {},
   "outputs": [],
   "source": []
  }
 ],
 "metadata": {
  "kernelspec": {
   "display_name": "Python 3 (ipykernel)",
   "language": "python",
   "name": "python3"
  },
  "language_info": {
   "codemirror_mode": {
    "name": "ipython",
    "version": 3
   },
   "file_extension": ".py",
   "mimetype": "text/x-python",
   "name": "python",
   "nbconvert_exporter": "python",
   "pygments_lexer": "ipython3",
   "version": "3.9.7"
  }
 },
 "nbformat": 4,
 "nbformat_minor": 5
}
