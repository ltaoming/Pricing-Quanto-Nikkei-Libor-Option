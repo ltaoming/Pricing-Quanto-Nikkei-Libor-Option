{
 "cells": [
  {
   "cell_type": "code",
   "execution_count": 56,
   "id": "b9cfa4aa-6400-4f41-beda-b6d0dfaf7f37",
   "metadata": {},
   "outputs": [],
   "source": [
    "import QuantLib as ql\n",
    "import matplotlib.pyplot as plt\n",
    "import numpy as np\n",
    "import pandas as pd"
   ]
  },
  {
   "cell_type": "code",
   "execution_count": 57,
   "id": "960d279c-5bbc-44e5-b53c-368d43499d0a",
   "metadata": {},
   "outputs": [],
   "source": [
    "def p():   # pricing function\n",
    "    sigma = 0.02   # HW model sigma parameter\n",
    "    a = 0.04   # HW model a parameter\n",
    "    length = 3   # Simulation time (in years)\n",
    "    steps_per_year = 252   # daily basis\n",
    "    steps = length * steps_per_year\n",
    "    forward_rate = 0.0011   # forward rate\n",
    "    count = ql.Thirty360()\n",
    "    date = ql.Date(9, 5, 2022)\n",
    "\n",
    "    ql.Settings.instance().evaluationDate = date\n",
    "\n",
    "    quote_Handle = ql.QuoteHandle(ql.SimpleQuote(forward_rate))\n",
    "    spot_curve = ql.FlatForward(date, quote_Handle, count)\n",
    "    spot_curve_handle = ql.YieldTermStructureHandle(spot_curve)\n",
    "\n",
    "    hw_process = ql.HullWhiteProcess(spot_curve_handle, a, sigma)\n",
    "    rdm_gen = ql.UniformRandomGenerator()\n",
    "    rdm_seq = ql.UniformRandomSequenceGenerator(steps, rdm_gen)\n",
    "    rng = ql.GaussianRandomSequenceGenerator(rdm_seq)\n",
    "    seq = ql.GaussianPathGenerator(hw_process, length, steps, rng, False)\n",
    "\n",
    "    def paths(N):\n",
    "        arr = np.zeros((N, steps + 1))\n",
    "        for i in range(N):\n",
    "            sample = seq.next()\n",
    "            path = sample.value()\n",
    "            time = [path.time(j) for j in range(len(path))]\n",
    "            value = [path[j] for j in range(len(path))]\n",
    "            arr[i, :] = np.array(value)\n",
    "        return np.array(time), arr\n",
    "\n",
    "    N = 1000   # number of simulations\n",
    "    time, paths = paths(N)\n",
    "    rates = pd.DataFrame(paths).T\n",
    "\n",
    "    n = length\n",
    "    num_steps = steps\n",
    "    dt = 1 / steps_per_year\n",
    "    prices = np.empty_like(rates)\n",
    "\n",
    "    def price(T, t, f0, rt):   # pricing based on HW model\n",
    "        tau = T - t\n",
    "        B = (1 - np.exp(-a * tau)) / a\n",
    "        A = np.exp(-f0 * tau + B * f0 - sigma ** 2 / (4 * a ** 3) *\n",
    "                    (np.exp(-a * T) - np.exp(-a * t)) * (np.exp(2 * a * t) - 1))\n",
    "        return A * np.exp(-rt * B)\n",
    "\n",
    "    pr = price(n, n - 90 * dt, forward_rate, rates.values[num_steps - 90])\n",
    "    ave = np.mean(pr)\n",
    "\n",
    "    L_d = -(pr - 1) / (pr)   # pricing Libor equity\n",
    "    p0 = price(n, 0, forward_rate, rates.values[0])\n",
    "    p_d = price(n - 90 * dt, 0, forward_rate, rates.values[0])\n",
    "    L_0 = -(p0 - p_d) / (p0 * 90 * dt)   # pricing Libor equity\n",
    "\n",
    "\n",
    "    def geo_paths(S, T, r, q, sigma_s, sigma_x, rho, steps, N):\n",
    "         dt = T / steps\n",
    "         ST = np.log(S) + np.cumsum(((r - q - sigma_s * sigma_x * rho - sigma_s ** 2 / 2) * dt + \\\n",
    "                                      sigma_s * np.sqrt(dt) * \\\n",
    "                                      np.random.normal(size=(steps, N))), axis=0)\n",
    "\n",
    "         return np.exp(ST)\n",
    "\n",
    "    S = 27003.560547  # stock price S_{0}\n",
    "    T = 3  # time to maturity (in year)\n",
    "    r = 0.02   # risk free risk in annual %\n",
    "    q = 0.0152  # annual dividend rate\n",
    "    sigma_S = 0.11966278630595297  # annual volatility in % (stock)\n",
    "    sigma_X = 0.04055125840025642  # annual volatility in % (exchange rate)\n",
    "    cor =  0.036397916482133884  # correlation between stock price and exchange rate\n",
    "\n",
    "    paths = geo_paths(S, T, r, q, sigma_S, sigma_X, cor, steps, N)\n",
    "\n",
    "    S_T = paths[-1]   # pricing quanto equity\n",
    "\n",
    "    k = 1  # strike\n",
    "    \n",
    "    Pi = (k - L_d / L_0) * (S_T / S - k)\n",
    "    for i in range(1000):\n",
    "        if Pi[i] < 0:\n",
    "            Pi[i] = 0   #Take max(0, Pi)\n",
    "\n",
    "    mean = np.mean(Pi)\n",
    "    return mean\n"
   ]
  },
  {
   "cell_type": "code",
   "execution_count": null,
   "id": "5868df35-3a8b-4562-bb5f-76343dc0fc44",
   "metadata": {},
   "outputs": [],
   "source": [
    "P_s = []\n",
    "for i in range(200):\n",
    "    P_s.append(p())"
   ]
  },
  {
   "cell_type": "code",
   "execution_count": null,
   "id": "4566809a-2025-46dd-839d-846af12d0e81",
   "metadata": {},
   "outputs": [],
   "source": [
    "print(\"Mean of the simulated contract price\", np.mean(P_s))"
   ]
  },
  {
   "cell_type": "code",
   "execution_count": null,
   "id": "a1fea834-5494-4327-8b72-37e4608a3148",
   "metadata": {},
   "outputs": [],
   "source": [
    "print(\"90% of the simulated contract price interval\", np.percentile(P_s, [5, 95]))"
   ]
  },
  {
   "cell_type": "code",
   "execution_count": null,
   "id": "f7697983-7e14-4e63-90b9-c1ec3bca328a",
   "metadata": {},
   "outputs": [],
   "source": [
    "plt.hist(P_s, density=True, bins=10)  # density=False would make counts\n",
    "plt.title(\"200 Times Pricing Histogram\")\n",
    "plt.ylabel('Probability')\n",
    "plt.xlabel('Contract price');\n",
    "plt.savefig(\"HW_histogram.pdf\")"
   ]
  },
  {
   "cell_type": "code",
   "execution_count": null,
   "id": "b69d3887-ad29-4817-8e00-9e484e854550",
   "metadata": {},
   "outputs": [],
   "source": []
  },
  {
   "cell_type": "code",
   "execution_count": null,
   "id": "03dae3d7-5291-4c97-8c3b-8d46f02a54c0",
   "metadata": {},
   "outputs": [],
   "source": []
  }
 ],
 "metadata": {
  "kernelspec": {
   "display_name": "Python 3 (ipykernel)",
   "language": "python",
   "name": "python3"
  },
  "language_info": {
   "codemirror_mode": {
    "name": "ipython",
    "version": 3
   },
   "file_extension": ".py",
   "mimetype": "text/x-python",
   "name": "python",
   "nbconvert_exporter": "python",
   "pygments_lexer": "ipython3",
   "version": "3.9.7"
  }
 },
 "nbformat": 4,
 "nbformat_minor": 5
}
