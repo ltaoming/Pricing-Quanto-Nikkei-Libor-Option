{
 "cells": [
  {
   "cell_type": "code",
   "execution_count": 1,
   "id": "520e925e-4c6b-4089-8f05-da5ebfc0670e",
   "metadata": {},
   "outputs": [],
   "source": [
    "import numpy as np\n",
    "import pandas as pd\n",
    "import csv\n",
    "from scipy.stats import pearsonr"
   ]
  },
  {
   "cell_type": "code",
   "execution_count": 2,
   "id": "9915c9ac-67f3-4f98-9a66-fd6ae51635e2",
   "metadata": {},
   "outputs": [],
   "source": [
    "prices = pd.read_csv('N225.csv', index_col = 'Date')"
   ]
  },
  {
   "cell_type": "code",
   "execution_count": 3,
   "id": "c4db79c0-24c4-4fb9-be94-d8c36af70ad5",
   "metadata": {},
   "outputs": [],
   "source": [
    "prices = prices.dropna()   #Drop invalid data\n",
    "prices.sort_index(ascending=False, inplace=True)   #Sort in descendent order\n",
    "prices['returns'] = (np.log(prices.Close / prices.Close.shift(-1)))   #Calculate daily returns"
   ]
  },
  {
   "cell_type": "code",
   "execution_count": 4,
   "id": "56982428-cf1f-4df4-9c34-07b8b660fb5d",
   "metadata": {},
   "outputs": [
    {
     "name": "stdout",
     "output_type": "stream",
     "text": [
      "Vol for Nikkei-225 is 0.012061459766969823\n"
     ]
    }
   ],
   "source": [
    "daily_std = np.std(prices.returns)\n",
    "print(\"Vol for Nikkei-225 is\", daily_std)"
   ]
  },
  {
   "cell_type": "code",
   "execution_count": 5,
   "id": "6a79e71f-bf2e-4415-9baa-44a08e2f33c3",
   "metadata": {},
   "outputs": [],
   "source": [
    "ex_rate = pd.read_csv('dollar-yen-exchange-rate-historical-chart.csv', index_col = 'date')"
   ]
  },
  {
   "cell_type": "code",
   "execution_count": 6,
   "id": "8f0fb605-fb44-48f9-b36a-fbd1b53a3213",
   "metadata": {},
   "outputs": [],
   "source": [
    "ex_rate.sort_index(ascending=False, inplace=True)\n",
    "ex_rate = ex_rate.rename(columns={' value': 'value'})   #Sort in descendent order\n",
    "ex_rate['returns'] = (np.log(ex_rate.value / ex_rate.value.shift(-1)))   #Calculate daily returns"
   ]
  },
  {
   "cell_type": "code",
   "execution_count": 7,
   "id": "a7c35961-2954-45ec-85ac-9f79c84a87c1",
   "metadata": {},
   "outputs": [
    {
     "name": "stdout",
     "output_type": "stream",
     "text": [
      "Vol for USD-JPY exchange rate is 0.004055125840025642\n"
     ]
    }
   ],
   "source": [
    "daily_std_ex = np.std(ex_rate.returns)\n",
    "print(\"Vol for USD-JPY exchange rate is\", daily_std_ex)"
   ]
  },
  {
   "cell_type": "code",
   "execution_count": 8,
   "id": "2caf4354-9503-4d14-831f-d294848363ba",
   "metadata": {},
   "outputs": [],
   "source": [
    "Libor = pd.read_csv('LIBOR_USD.csv', index_col = 'Date')"
   ]
  },
  {
   "cell_type": "code",
   "execution_count": 10,
   "id": "6f366208-de8a-46d6-8d3f-3c6c4f92272e",
   "metadata": {},
   "outputs": [],
   "source": [
    "Libor['returns'] = (np.log(Libor.Three_Months / Libor.Three_Months.shift(-1)))   #Calculate daily returns"
   ]
  },
  {
   "cell_type": "code",
   "execution_count": 11,
   "id": "d51729c1-5551-408d-b7a6-bf042bd305c8",
   "metadata": {},
   "outputs": [
    {
     "name": "stdout",
     "output_type": "stream",
     "text": [
      "Vol for Libor is 0.02706690514545634\n"
     ]
    }
   ],
   "source": [
    "Libor_std = np.std(Libor.returns)\n",
    "print(\"Vol for Libor is\", Libor_std)"
   ]
  },
  {
   "cell_type": "code",
   "execution_count": 12,
   "id": "7d3202f9-d905-4724-a184-7335b2ab1760",
   "metadata": {},
   "outputs": [
    {
     "data": {
      "text/plain": [
       "Date\n",
       "28.04.2022    0.037345\n",
       "27.04.2022    0.000581\n",
       "26.04.2022    0.010784\n",
       "25.04.2022    0.009145\n",
       "22.04.2022    0.024783\n",
       "                ...   \n",
       "08.05.2017    0.003527\n",
       "05.05.2017    0.000941\n",
       "04.05.2017    0.006858\n",
       "03.05.2017   -0.002132\n",
       "02.05.2017    0.001185\n",
       "Name: returns, Length: 1264, dtype: float64"
      ]
     },
     "execution_count": 12,
     "metadata": {},
     "output_type": "execute_result"
    }
   ],
   "source": [
    "Li = Libor.returns\n",
    "Li.dropna()"
   ]
  },
  {
   "cell_type": "code",
   "execution_count": 13,
   "id": "522134da-ddb4-4b77-96c9-bf849ce8baa0",
   "metadata": {},
   "outputs": [],
   "source": [
    "Li = Li[0:1218]"
   ]
  },
  {
   "cell_type": "code",
   "execution_count": 14,
   "id": "94c2060e-8f35-401a-b69b-3a63dd66a6e0",
   "metadata": {},
   "outputs": [],
   "source": [
    "pr = prices.returns\n",
    "pr = pr.dropna()"
   ]
  },
  {
   "cell_type": "code",
   "execution_count": 15,
   "id": "0d3c804a-8714-47ff-90f9-003d2f401267",
   "metadata": {},
   "outputs": [],
   "source": [
    "ex = ex_rate.returns[0:1218]"
   ]
  },
  {
   "cell_type": "code",
   "execution_count": 16,
   "id": "3bc4a2c1-4c26-448f-8956-cde0d6b0aadc",
   "metadata": {},
   "outputs": [
    {
     "name": "stdout",
     "output_type": "stream",
     "text": [
      "Correlation between Nikkei-225 and exchange rate is 0.036397916482133884\n"
     ]
    }
   ],
   "source": [
    "corr = pearsonr(pr, ex)\n",
    "print(\"Correlation between Nikkei-225 and exchange rate is\", corr[1])"
   ]
  },
  {
   "cell_type": "code",
   "execution_count": 17,
   "id": "d7de3606-e08c-413c-b770-161802d8d14f",
   "metadata": {},
   "outputs": [
    {
     "name": "stdout",
     "output_type": "stream",
     "text": [
      "Correlation between Nikkei-225 Libor rate is 0.1585817213425081\n"
     ]
    }
   ],
   "source": [
    "corr2 = pearsonr(pr, Li)\n",
    "print(\"Correlation between Nikkei-225 Libor rate is\", corr2[1])"
   ]
  },
  {
   "cell_type": "code",
   "execution_count": 18,
   "id": "f571d634-274d-4ac4-936b-df9ee3e4b093",
   "metadata": {},
   "outputs": [],
   "source": [
    "T_bond = pd.read_csv('daily-treasury-rates.csv', index_col = 'Date')"
   ]
  },
  {
   "cell_type": "code",
   "execution_count": 19,
   "id": "ef06f1f5-ab42-470c-be56-7bdd46a793fe",
   "metadata": {},
   "outputs": [
    {
     "data": {
      "text/html": [
       "<div>\n",
       "<style scoped>\n",
       "    .dataframe tbody tr th:only-of-type {\n",
       "        vertical-align: middle;\n",
       "    }\n",
       "\n",
       "    .dataframe tbody tr th {\n",
       "        vertical-align: top;\n",
       "    }\n",
       "\n",
       "    .dataframe thead th {\n",
       "        text-align: right;\n",
       "    }\n",
       "</style>\n",
       "<table border=\"1\" class=\"dataframe\">\n",
       "  <thead>\n",
       "    <tr style=\"text-align: right;\">\n",
       "      <th></th>\n",
       "      <th>Three_Mo</th>\n",
       "    </tr>\n",
       "    <tr>\n",
       "      <th>Date</th>\n",
       "      <th></th>\n",
       "    </tr>\n",
       "  </thead>\n",
       "  <tbody>\n",
       "    <tr>\n",
       "      <th>05/10/2022</th>\n",
       "      <td>0.89</td>\n",
       "    </tr>\n",
       "    <tr>\n",
       "      <th>05/09/2022</th>\n",
       "      <td>0.92</td>\n",
       "    </tr>\n",
       "    <tr>\n",
       "      <th>05/06/2022</th>\n",
       "      <td>0.85</td>\n",
       "    </tr>\n",
       "    <tr>\n",
       "      <th>05/05/2022</th>\n",
       "      <td>0.85</td>\n",
       "    </tr>\n",
       "    <tr>\n",
       "      <th>05/04/2022</th>\n",
       "      <td>0.89</td>\n",
       "    </tr>\n",
       "    <tr>\n",
       "      <th>...</th>\n",
       "      <td>...</td>\n",
       "    </tr>\n",
       "    <tr>\n",
       "      <th>01/09/2017</th>\n",
       "      <td>0.60</td>\n",
       "    </tr>\n",
       "    <tr>\n",
       "      <th>01/06/2017</th>\n",
       "      <td>0.61</td>\n",
       "    </tr>\n",
       "    <tr>\n",
       "      <th>01/05/2017</th>\n",
       "      <td>0.62</td>\n",
       "    </tr>\n",
       "    <tr>\n",
       "      <th>01/04/2017</th>\n",
       "      <td>0.63</td>\n",
       "    </tr>\n",
       "    <tr>\n",
       "      <th>01/03/2017</th>\n",
       "      <td>0.65</td>\n",
       "    </tr>\n",
       "  </tbody>\n",
       "</table>\n",
       "<p>1340 rows × 1 columns</p>\n",
       "</div>"
      ],
      "text/plain": [
       "            Three_Mo\n",
       "Date                \n",
       "05/10/2022      0.89\n",
       "05/09/2022      0.92\n",
       "05/06/2022      0.85\n",
       "05/05/2022      0.85\n",
       "05/04/2022      0.89\n",
       "...              ...\n",
       "01/09/2017      0.60\n",
       "01/06/2017      0.61\n",
       "01/05/2017      0.62\n",
       "01/04/2017      0.63\n",
       "01/03/2017      0.65\n",
       "\n",
       "[1340 rows x 1 columns]"
      ]
     },
     "execution_count": 19,
     "metadata": {},
     "output_type": "execute_result"
    }
   ],
   "source": [
    "T_bond"
   ]
  },
  {
   "cell_type": "code",
   "execution_count": 20,
   "id": "2fefc544-bddd-4e08-be7a-27416fb8999c",
   "metadata": {},
   "outputs": [],
   "source": [
    "T_bond = T_bond[T_bond['Three_Mo']!=0]  #Drop invalid data"
   ]
  },
  {
   "cell_type": "code",
   "execution_count": 21,
   "id": "a3c2f574-5eb1-4def-97cb-f9f0488faa12",
   "metadata": {},
   "outputs": [
    {
     "name": "stderr",
     "output_type": "stream",
     "text": [
      "/var/folders/dn/tw71gbhs1wl0sj96pqvw73180000gn/T/ipykernel_4453/422421278.py:1: SettingWithCopyWarning: \n",
      "A value is trying to be set on a copy of a slice from a DataFrame.\n",
      "Try using .loc[row_indexer,col_indexer] = value instead\n",
      "\n",
      "See the caveats in the documentation: https://pandas.pydata.org/pandas-docs/stable/user_guide/indexing.html#returning-a-view-versus-a-copy\n",
      "  T_bond['returns'] = (np.log(T_bond.Three_Mo / T_bond.Three_Mo.shift(-1)))   #Calculate daily returns\n"
     ]
    }
   ],
   "source": [
    "T_bond['returns'] = (np.log(T_bond.Three_Mo / T_bond.Three_Mo.shift(-1)))   #Calculate daily returns"
   ]
  },
  {
   "cell_type": "code",
   "execution_count": 22,
   "id": "4e8da65a-af0c-4991-9bfb-7babff5dafa1",
   "metadata": {},
   "outputs": [
    {
     "name": "stdout",
     "output_type": "stream",
     "text": [
      "Vol for T-bond is 0.15539427910616832\n"
     ]
    }
   ],
   "source": [
    "daily_std_T = np.std(T_bond.returns)\n",
    "print(\"Vol for T-bond is\", daily_std_T)"
   ]
  },
  {
   "cell_type": "code",
   "execution_count": null,
   "id": "c2a1f75c-8bc1-4835-a2d7-c910696ede70",
   "metadata": {},
   "outputs": [],
   "source": []
  }
 ],
 "metadata": {
  "kernelspec": {
   "display_name": "Python 3 (ipykernel)",
   "language": "python",
   "name": "python3"
  },
  "language_info": {
   "codemirror_mode": {
    "name": "ipython",
    "version": 3
   },
   "file_extension": ".py",
   "mimetype": "text/x-python",
   "name": "python",
   "nbconvert_exporter": "python",
   "pygments_lexer": "ipython3",
   "version": "3.9.7"
  }
 },
 "nbformat": 4,
 "nbformat_minor": 5
}
